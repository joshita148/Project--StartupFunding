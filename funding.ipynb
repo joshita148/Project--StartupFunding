{
 "cells": [
  {
   "cell_type": "markdown",
   "id": "d8a645c7-678d-4c7c-8696-5d9aa0eef086",
   "metadata": {},
   "source": [
    "### Q1.Your Friend has developed the Product and he wants to establish the product startup and he is searching for a perfect location where getting the investment has a high chance. But due to its financial restriction, he can choose only between three locations -  Bangalore, Mumbai, and NCR. As a friend, you want to help your friend deciding the location. NCR include Gurgaon, Noida and New Delhi. Find the location where the most number of funding is done. That means, find the location where startups has received funding maximum number of times. Plot the bar graph between location and number of funding. Take city name \"Delhi\" as \"New Delhi\". Check the case-sensitiveness of cities also. That means, at some place instead of \"Bangalore\", \"bangalore\" is given. Take city name as \"Bangalore\". For few startups multiple locations are given, one Indian and one Foreign. Consider the startup if any one of the city lies in given locations."
   ]
  },
  {
   "cell_type": "code",
   "execution_count": 7,
   "id": "853884a4-da82-464f-acaa-dc525e827053",
   "metadata": {},
   "outputs": [
    {
     "data": {
      "image/png": "[encoded data removed]",
      "text/plain": [
       "<Figure size 576x504 with 1 Axes>"
      ]
     },
     "metadata": {
      "needs_background": "light"
     },
     "output_type": "display_data"
    },
    {
     "name": "stdout",
     "output_type": "stream",
     "text": [
      "\n",
      "location where startups has received funding maximum number of times:   Bangalore\n"
     ]
    }
   ],
   "source": [
    "import pandas as pd \n",
    "import numpy as np\n",
    "import matplotlib.pyplot as plt\n",
    "\n",
    "locations=np.array(['Bangalore','Mumbai','New Delhi','Noida','Gurgaon'])\n",
    "city_fundings_count=[]\n",
    "\n",
    "df=pd.read_csv(\"startup_funding.csv\")\n",
    "\n",
    "df.CityLocation.fillna('', inplace=True)\n",
    "df.CityLocation.replace('bangalore','Bangalore', inplace=True)\n",
    "df.CityLocation.replace('Delhi','New Delhi', inplace=True)\n",
    "\n",
    "def indian_city(s):\n",
    "    for i in s.split('/'):\n",
    "        city=i.strip()\n",
    "        if city in locations:\n",
    "            return city\n",
    "    return s\n",
    "df.CityLocation=df.CityLocation.apply(indian_city)\n",
    "\n",
    "s=df.CityLocation.value_counts()\n",
    "\n",
    "for i in locations:\n",
    "    city_fundings_count.append(s.loc[i])\n",
    "\n",
    "np_city_fundings_count=np.array(city_fundings_count)\n",
    "best_location=locations[np.where(np_city_fundings_count==max(np_city_fundings_count))][0]\n",
    "\n",
    "plt.figure(figsize=(8,7))\n",
    "plt.bar(locations,np_city_fundings_count, color='#abcdef')\n",
    "plt.title('Number of Fundings VS Preffered Locations', fontdict={'fontweight':'bold','fontsize':16})\n",
    "plt.xlabel('Location', fontdict={'fontweight':'bold','fontsize': 14})\n",
    "plt.ylabel('Number of Funding', fontdict={'fontweight':'bold','fontsize': 14})\n",
    "plt.show()\n",
    "\n",
    "print()\n",
    "print('location where startups has received funding maximum number of times:  ',best_location)\n"
   ]
  },
  {
   "cell_type": "markdown",
   "id": "6053fdc7-84bf-4bca-a12d-b76f72174ea7",
   "metadata": {},
   "source": [
    "### Q2.Even after trying for so many times, your friend’s startup could not find the investment. So you decided to take this matter in your hand and try to find the list of investors who probably can invest in your friend’s startup. Your list will increase the chance of your friend startup getting some initial investment by contacting these investors. Find the top 5 investors who have invested maximum number of times (consider repeat investments in one company also). In a startup, multiple investors might have invested. So consider each investor for that startup. Ignore undisclosed investors."
   ]
  },
  {
   "cell_type": "code",
   "execution_count": 3,
   "id": "3270d3bb-c352-4425-8496-82d9feb98478",
   "metadata": {},
   "outputs": [
    {
     "name": "stdout",
     "output_type": "stream",
     "text": [
      "Sequoia Capital\n",
      "Accel Partners\n",
      "Kalaari Capital\n",
      "SAIF Partners\n",
      "Indian Angel Network\n"
     ]
    },
    {
     "data": {
      "text/html": [
       "<div>\n",
       "<style scoped>\n",
       "    .dataframe tbody tr th:only-of-type {\n",
       "        vertical-align: middle;\n",
       "    }\n",
       "\n",
       "    .dataframe tbody tr th {\n",
       "        vertical-align: top;\n",
       "    }\n",
       "\n",
       "    .dataframe thead th {\n",
       "        text-align: right;\n",
       "    }\n",
       "</style>\n",
       "<table border=\"1\" class=\"dataframe\">\n",
       "  <thead>\n",
       "    <tr style=\"text-align: right;\">\n",
       "      <th></th>\n",
       "      <th>0</th>\n",
       "    </tr>\n",
       "  </thead>\n",
       "  <tbody>\n",
       "    <tr>\n",
       "      <th>Sequoia Capital</th>\n",
       "      <td>64</td>\n",
       "    </tr>\n",
       "    <tr>\n",
       "      <th>Accel Partners</th>\n",
       "      <td>53</td>\n",
       "    </tr>\n",
       "    <tr>\n",
       "      <th>Kalaari Capital</th>\n",
       "      <td>44</td>\n",
       "    </tr>\n",
       "    <tr>\n",
       "      <th>SAIF Partners</th>\n",
       "      <td>41</td>\n",
       "    </tr>\n",
       "    <tr>\n",
       "      <th>Indian Angel Network</th>\n",
       "      <td>40</td>\n",
       "    </tr>\n",
       "  </tbody>\n",
       "</table>\n",
       "</div>"
      ],
      "text/plain": [
       "                       0\n",
       "Sequoia Capital       64\n",
       "Accel Partners        53\n",
       "Kalaari Capital       44\n",
       "SAIF Partners         41\n",
       "Indian Angel Network  40"
      ]
     },
     "execution_count": 3,
     "metadata": {},
     "output_type": "execute_result"
    }
   ],
   "source": [
    "import pandas as pd \n",
    "import numpy as np\n",
    "import matplotlib.pyplot as plt\n",
    "dictionary={}\n",
    "df=pd.read_csv('startup_funding.csv')\n",
    "df.InvestorsName.fillna('', inplace=True)\n",
    "\n",
    "def investorNames(arr):\n",
    "    d={}\n",
    "    for string in arr:\n",
    "        if ',' in string:\n",
    "            for i in string.split(','):\n",
    "                a=i.strip()\n",
    "                d[a]= d.get(a,0)+1\n",
    "        else:\n",
    "            d[string]= d.get(string,0)+1 \n",
    "    return d\n",
    "\n",
    "dictionary=investorNames(df.InvestorsName)\n",
    "df1= pd.DataFrame(list(dictionary.values()), list(dictionary.keys()))\n",
    "s=df1[df1.index!=''].sort_values([0],ascending=False)[:5]\n",
    "\n",
    "for i in s.index:\n",
    "    print(i)\n",
    "\n",
    "s"
   ]
  },
  {
   "cell_type": "markdown",
   "id": "d0871222-824e-4b44-8c1b-67fa446f42d1",
   "metadata": {},
   "source": [
    "### Q3. After re-analysing the dataset you found out that some investors have invested in the same startup at different number of funding rounds. So before finalising the previous list, you want to improvise it by finding the top 5 investors who have invested in different number of startups. This list will be more helpful than your previous list in finding the investment for your friend startup. Find the top 5 investors who have invested maximum number of times in different companies. That means, if one investor has invested multiple times in one startup, count one for that company. There are many errors in startup names. Ignore correcting all, just handle the important ones - Ola, Flipkart, Oyo and Paytm."
   ]
  },
  {
   "cell_type": "code",
   "execution_count": 4,
   "id": "f5ef50d0-0e07-49a4-98e0-9f23ede460a0",
   "metadata": {},
   "outputs": [
    {
     "name": "stdout",
     "output_type": "stream",
     "text": [
      "Sequoia Capital\n",
      "Accel Partners\n",
      "Kalaari Capital\n",
      "Indian Angel Network\n",
      "Blume Ventures\n"
     ]
    },
    {
     "data": {
      "text/html": [
       "<div>\n",
       "<style scoped>\n",
       "    .dataframe tbody tr th:only-of-type {\n",
       "        vertical-align: middle;\n",
       "    }\n",
       "\n",
       "    .dataframe tbody tr th {\n",
       "        vertical-align: top;\n",
       "    }\n",
       "\n",
       "    .dataframe thead th {\n",
       "        text-align: right;\n",
       "    }\n",
       "</style>\n",
       "<table border=\"1\" class=\"dataframe\">\n",
       "  <thead>\n",
       "    <tr style=\"text-align: right;\">\n",
       "      <th></th>\n",
       "      <th>0</th>\n",
       "    </tr>\n",
       "  </thead>\n",
       "  <tbody>\n",
       "    <tr>\n",
       "      <th>Sequoia Capital</th>\n",
       "      <td>48</td>\n",
       "    </tr>\n",
       "    <tr>\n",
       "      <th>Accel Partners</th>\n",
       "      <td>47</td>\n",
       "    </tr>\n",
       "    <tr>\n",
       "      <th>Kalaari Capital</th>\n",
       "      <td>41</td>\n",
       "    </tr>\n",
       "    <tr>\n",
       "      <th>Indian Angel Network</th>\n",
       "      <td>40</td>\n",
       "    </tr>\n",
       "    <tr>\n",
       "      <th>Blume Ventures</th>\n",
       "      <td>36</td>\n",
       "    </tr>\n",
       "  </tbody>\n",
       "</table>\n",
       "</div>"
      ],
      "text/plain": [
       "                       0\n",
       "Sequoia Capital       48\n",
       "Accel Partners        47\n",
       "Kalaari Capital       41\n",
       "Indian Angel Network  40\n",
       "Blume Ventures        36"
      ]
     },
     "execution_count": 4,
     "metadata": {},
     "output_type": "execute_result"
    }
   ],
   "source": [
    "import pandas as pd \n",
    "import numpy as np\n",
    "import matplotlib.pyplot as plt\n",
    "dictionary={}\n",
    "df=pd.read_csv('startup_funding.csv')\n",
    "\n",
    "df.InvestorsName.fillna('', inplace=True)\n",
    "\n",
    "df.StartupName.replace('Ola Cabs','Ola', inplace=True)\n",
    "df.StartupName.replace('Olacabs','Ola', inplace=True)\n",
    "df.StartupName.replace('OyoRooms','Oyo',inplace=True)\n",
    "df.StartupName.replace('Oyo Rooms','Oyo',inplace=True)\n",
    "df.StartupName.replace('Oyorooms','Oyo',inplace=True)\n",
    "df.StartupName.replace('OYO Rooms','Oyo',inplace=True)\n",
    "df.StartupName.replace('Paytm Marketplace','Paytm',inplace=True)\n",
    "df.StartupName.replace('Flipkart.com','Flipkart', inplace=True)\n",
    "\n",
    "\n",
    "df['Grouped']=df.groupby(df.StartupName).InvestorsName.transform(lambda x: ','.join(x)).values\n",
    "df1=df[['StartupName','Grouped']].drop_duplicates()\n",
    "def  investorNames(arr):\n",
    "    d={}\n",
    "    for string in arr:\n",
    "        l=[]\n",
    "        if ',' in string:\n",
    "            for i in string.split(','):\n",
    "                a=i.strip()\n",
    "                if a not in l:\n",
    "                    d[a]= d.get(a,0)+1\n",
    "                    l.append(a)\n",
    "        else:\n",
    "            d[string]= d.get(string,0)+1\n",
    "    return d\n",
    "\n",
    "dictionary=investorNames(df1.Grouped)\n",
    "df2= pd.DataFrame(list(dictionary.values()), list(dictionary.keys()))\n",
    "s=df2[df2.index!=''].sort_values([0],ascending=False)[:5]\n",
    "\n",
    "for i in s.index:\n",
    "    print(i)\n",
    "s"
   ]
  },
  {
   "cell_type": "markdown",
   "id": "fe857c56-932e-4030-9045-e47f640a8037",
   "metadata": {},
   "source": [
    "### Q4. Even after putting so much effort in finding the probable investors, it didn't turn out to be helpful for your friend. So you went to your investor friend to understand the situation better and your investor friend explained to you about the different Investment Types and their features. This new information will be helpful in finding the right investor. Since your friend startup is at an early stage startup, the best-suited investment type would be - Seed Funding and Crowdfunding. Find the top 5 investors who have invested in a different number of startups and their investment type is Crowdfunding or Seed Funding. Correct spelling of investment types are - \"Private Equity\", \"Seed Funding\", \"Debt Funding\", and \"Crowd Funding\". Keep an eye for any spelling mistake. You can find this by printing unique values from this column. There are many errors in startup names. Ignore correcting all, just handle the important ones - Ola, Flipkart, Oyo and Paytm."
   ]
  },
  {
   "cell_type": "code",
   "execution_count": 5,
   "id": "8432c29a-44d0-4d39-af7d-47d2687cc261",
   "metadata": {},
   "outputs": [
    {
     "name": "stdout",
     "output_type": "stream",
     "text": [
      "Indian Angel Network\n",
      "Rajan Anandan\n",
      "LetsVenture\n",
      "Anupam Mittal\n",
      "Kunal Shah\n"
     ]
    },
    {
     "name": "stderr",
     "output_type": "stream",
     "text": [
      "<ipython-input-5-38863b31fd18>:24: SettingWithCopyWarning: \n",
      "A value is trying to be set on a copy of a slice from a DataFrame.\n",
      "Try using .loc[row_indexer,col_indexer] = value instead\n",
      "\n",
      "See the caveats in the documentation: https://pandas.pydata.org/pandas-docs/stable/user_guide/indexing.html#returning-a-view-versus-a-copy\n",
      "  df1['Grouped']=df1.groupby(df1.StartupName).InvestorsName.transform(lambda x: ','.join(x)).values\n"
     ]
    },
    {
     "data": {
      "text/html": [
       "<div>\n",
       "<style scoped>\n",
       "    .dataframe tbody tr th:only-of-type {\n",
       "        vertical-align: middle;\n",
       "    }\n",
       "\n",
       "    .dataframe tbody tr th {\n",
       "        vertical-align: top;\n",
       "    }\n",
       "\n",
       "    .dataframe thead th {\n",
       "        text-align: right;\n",
       "    }\n",
       "</style>\n",
       "<table border=\"1\" class=\"dataframe\">\n",
       "  <thead>\n",
       "    <tr style=\"text-align: right;\">\n",
       "      <th></th>\n",
       "      <th>0</th>\n",
       "    </tr>\n",
       "  </thead>\n",
       "  <tbody>\n",
       "    <tr>\n",
       "      <th>Indian Angel Network</th>\n",
       "      <td>33</td>\n",
       "    </tr>\n",
       "    <tr>\n",
       "      <th>Rajan Anandan</th>\n",
       "      <td>23</td>\n",
       "    </tr>\n",
       "    <tr>\n",
       "      <th>LetsVenture</th>\n",
       "      <td>16</td>\n",
       "    </tr>\n",
       "    <tr>\n",
       "      <th>Anupam Mittal</th>\n",
       "      <td>16</td>\n",
       "    </tr>\n",
       "    <tr>\n",
       "      <th>Kunal Shah</th>\n",
       "      <td>14</td>\n",
       "    </tr>\n",
       "  </tbody>\n",
       "</table>\n",
       "</div>"
      ],
      "text/plain": [
       "                       0\n",
       "Indian Angel Network  33\n",
       "Rajan Anandan         23\n",
       "LetsVenture           16\n",
       "Anupam Mittal         16\n",
       "Kunal Shah            14"
      ]
     },
     "execution_count": 5,
     "metadata": {},
     "output_type": "execute_result"
    }
   ],
   "source": [
    "import pandas as pd \n",
    "import numpy as np\n",
    "import matplotlib.pyplot as plt\n",
    "dictionary={}\n",
    "df=pd.read_csv('startup_funding.csv')\n",
    "\n",
    "df.InvestorsName.fillna('', inplace=True)\n",
    "\n",
    "df.StartupName.replace('Ola Cabs','Ola', inplace=True)\n",
    "df.StartupName.replace('Olacabs','Ola', inplace=True)\n",
    "df.StartupName.replace('OyoRooms','Oyo',inplace=True)\n",
    "df.StartupName.replace('Oyo Rooms','Oyo',inplace=True)\n",
    "df.StartupName.replace('Oyorooms','Oyo',inplace=True)\n",
    "df.StartupName.replace('OYO Rooms','Oyo',inplace=True)\n",
    "df.StartupName.replace('Paytm Marketplace','Paytm',inplace=True)\n",
    "df.StartupName.replace('Flipkart.com','Flipkart', inplace=True)\n",
    "\n",
    "df.InvestmentType.replace('PrivateEquity','Private Equity', inplace=True)\n",
    "df.InvestmentType.replace('Crowd funding','Crowd Funding', inplace=True)\n",
    "df.InvestmentType.replace('SeedFunding','Seed Funding', inplace=True)\n",
    "df.InvestmentType.fillna('',inplace=True)\n",
    "\n",
    "df1=df[(df.InvestmentType=='Crowd Funding') | (df.InvestmentType=='Seed Funding')]\n",
    "df1['Grouped']=df1.groupby(df1.StartupName).InvestorsName.transform(lambda x: ','.join(x)).values\n",
    "df1=df1[['StartupName','Grouped']].drop_duplicates()\n",
    "\n",
    "def  investorNames(arr):\n",
    "    d={}\n",
    "    for string in arr:\n",
    "        l=[]\n",
    "        if ',' in string:\n",
    "            for i in string.split(','):\n",
    "                a=i.strip()\n",
    "                if a not in l:\n",
    "                    d[a]= d.get(a,0)+1\n",
    "                    l.append(a)\n",
    "        else:\n",
    "            d[string]= d.get(string,0)+1\n",
    "    return d\n",
    "\n",
    "\n",
    "dictionary=investorNames(df1.Grouped)\n",
    "df2= pd.DataFrame(list(dictionary.values()), list(dictionary.keys()))\n",
    "s=df2[(df2.index!='') & (~df2.index.str.contains('Undisclosed'))].sort_values([0],ascending=False)[:5]\n",
    "\n",
    "for i in s.index:\n",
    "    print(i)\n",
    "s"
   ]
  },
  {
   "cell_type": "markdown",
   "id": "c95827a6-8f25-4490-bd6e-2fc78916d51d",
   "metadata": {},
   "source": [
    "### Q5. Due to your immense help, your friend startup successfully got seed funding and it is on the operational mode. Now your friend wants to expand his startup and he is looking for new investors for his startup. Now you again come as a saviour to help your friend and want to create a list of probable new new investors. Before moving forward you remember your investor friend advice that finding the investors by analysing the investment type. Since your friend startup is not in early phase it is in growth stage so the best-suited investment type is Private Equity. Find the top 5 investors who have invested in a different number of startups and their investment type is Private Equity. Correct spelling of investment types are - \"Private Equity\", \"Seed Funding\", \"Debt Funding\", and \"Crowd Funding\". Keep an eye for any spelling mistake. You can find this by printing unique values from this column. There are many errors in startup names. Ignore correcting all, just handle the important ones - Ola, Flipkart, Oyo and Paytm."
   ]
  },
  {
   "cell_type": "code",
   "execution_count": 6,
   "id": "022b8974-ff86-4049-ab06-1f03a6df91e3",
   "metadata": {},
   "outputs": [
    {
     "name": "stdout",
     "output_type": "stream",
     "text": [
      "Sequoia Capital\n",
      "Accel Partners\n",
      "Kalaari Capital\n",
      "Blume Ventures\n",
      "SAIF Partners\n"
     ]
    },
    {
     "name": "stderr",
     "output_type": "stream",
     "text": [
      "<ipython-input-6-1c90f20903c8>:24: SettingWithCopyWarning: \n",
      "A value is trying to be set on a copy of a slice from a DataFrame.\n",
      "Try using .loc[row_indexer,col_indexer] = value instead\n",
      "\n",
      "See the caveats in the documentation: https://pandas.pydata.org/pandas-docs/stable/user_guide/indexing.html#returning-a-view-versus-a-copy\n",
      "  df1['Grouped']=df1.groupby(df.StartupName).InvestorsName.transform(lambda x: ','.join(x)).values\n"
     ]
    },
    {
     "data": {
      "text/html": [
       "<div>\n",
       "<style scoped>\n",
       "    .dataframe tbody tr th:only-of-type {\n",
       "        vertical-align: middle;\n",
       "    }\n",
       "\n",
       "    .dataframe tbody tr th {\n",
       "        vertical-align: top;\n",
       "    }\n",
       "\n",
       "    .dataframe thead th {\n",
       "        text-align: right;\n",
       "    }\n",
       "</style>\n",
       "<table border=\"1\" class=\"dataframe\">\n",
       "  <thead>\n",
       "    <tr style=\"text-align: right;\">\n",
       "      <th></th>\n",
       "      <th>0</th>\n",
       "    </tr>\n",
       "  </thead>\n",
       "  <tbody>\n",
       "    <tr>\n",
       "      <th>Sequoia Capital</th>\n",
       "      <td>45</td>\n",
       "    </tr>\n",
       "    <tr>\n",
       "      <th>Accel Partners</th>\n",
       "      <td>43</td>\n",
       "    </tr>\n",
       "    <tr>\n",
       "      <th>Kalaari Capital</th>\n",
       "      <td>35</td>\n",
       "    </tr>\n",
       "    <tr>\n",
       "      <th>Blume Ventures</th>\n",
       "      <td>27</td>\n",
       "    </tr>\n",
       "    <tr>\n",
       "      <th>SAIF Partners</th>\n",
       "      <td>24</td>\n",
       "    </tr>\n",
       "  </tbody>\n",
       "</table>\n",
       "</div>"
      ],
      "text/plain": [
       "                  0\n",
       "Sequoia Capital  45\n",
       "Accel Partners   43\n",
       "Kalaari Capital  35\n",
       "Blume Ventures   27\n",
       "SAIF Partners    24"
      ]
     },
     "execution_count": 6,
     "metadata": {},
     "output_type": "execute_result"
    }
   ],
   "source": [
    "import pandas as pd \n",
    "import numpy as np\n",
    "import matplotlib.pyplot as plt\n",
    "dictionary={}\n",
    "df=pd.read_csv('startup_funding.csv')\n",
    "\n",
    "df.InvestorsName.fillna('', inplace=True)\n",
    "\n",
    "df.StartupName.replace('Ola Cabs','Ola', inplace=True)\n",
    "df.StartupName.replace('Olacabs','Ola', inplace=True)\n",
    "df.StartupName.replace('OyoRooms','Oyo',inplace=True)\n",
    "df.StartupName.replace('Oyo Rooms','Oyo',inplace=True)\n",
    "df.StartupName.replace('Oyorooms','Oyo',inplace=True)\n",
    "df.StartupName.replace('OYO Rooms','Oyo',inplace=True)\n",
    "df.StartupName.replace('Paytm Marketplace','Paytm',inplace=True)\n",
    "df.StartupName.replace('Flipkart.com','Flipkart', inplace=True)\n",
    "\n",
    "df.InvestmentType.replace('PrivateEquity','Private Equity', inplace=True)\n",
    "df.InvestmentType.replace('Crowd funding','Crowd Funding', inplace=True)\n",
    "df.InvestmentType.replace('SeedFunding','Seed Funding', inplace=True)\n",
    "df.InvestmentType.fillna('',inplace=True)\n",
    "\n",
    "df1=df[(df.InvestmentType=='Private Equity')]\n",
    "df1['Grouped']=df1.groupby(df.StartupName).InvestorsName.transform(lambda x: ','.join(x)).values\n",
    "df1=df1[['StartupName','Grouped']].drop_duplicates()\n",
    "\n",
    "def  investorNames(arr):\n",
    "    d={}\n",
    "    for string in arr:\n",
    "        l=[]\n",
    "        if ',' in string:\n",
    "            for i in string.split(','):\n",
    "                a=i.strip()\n",
    "                if a not in l:\n",
    "                    d[a]= d.get(a,0)+1\n",
    "                    l.append(a)\n",
    "        else:\n",
    "            d[string]= d.get(string,0)+1\n",
    "    return d\n",
    "\n",
    "\n",
    "dictionary=investorNames(df1.Grouped)\n",
    "df2= pd.DataFrame(list(dictionary.values()), list(dictionary.keys()))\n",
    "s=df2[df2.index!=''].sort_values([0],ascending=False)[:5]\n",
    "\n",
    "for i in s.index:\n",
    "    print(i)\n",
    "s"
   ]
  },
  {
   "cell_type": "code",
   "execution_count": null,
   "id": "97ebce4c-6adf-4109-87e8-27360e8aedc1",
   "metadata": {},
   "outputs": [],
   "source": []
  },
  {
   "cell_type": "code",
   "execution_count": null,
   "id": "e62d8fbc-5122-40a5-8084-b3565ea2dc0f",
   "metadata": {},
   "outputs": [],
   "source": []
  },
  {
   "cell_type": "code",
   "execution_count": null,
   "id": "75331849-016a-41a3-9073-333e5cad4dda",
   "metadata": {},
   "outputs": [],
   "source": []
  },
  {
   "cell_type": "code",
   "execution_count": null,
   "id": "75dc4d1f-34a2-4916-90a8-4bd2cfeeaba6",
   "metadata": {},
   "outputs": [],
   "source": []
  },
  {
   "cell_type": "code",
   "execution_count": null,
   "id": "cf3d10fa-8da3-4a7d-8c17-6320aca4a196",
   "metadata": {},
   "outputs": [],
   "source": [
    "\n"
   ]
  }
 ],
 "metadata": {
  "kernelspec": {
   "display_name": "Python 3",
   "language": "python",
   "name": "python3"
  },
  "language_info": {
   "codemirror_mode": {
    "name": "ipython",
    "version": 3
   },
   "file_extension": ".py",
   "mimetype": "text/x-python",
   "name": "python",
   "nbconvert_exporter": "python",
   "pygments_lexer": "ipython3",
   "version": "3.8.8"
  }
 },
 "nbformat": 4,
 "nbformat_minor": 5
}
